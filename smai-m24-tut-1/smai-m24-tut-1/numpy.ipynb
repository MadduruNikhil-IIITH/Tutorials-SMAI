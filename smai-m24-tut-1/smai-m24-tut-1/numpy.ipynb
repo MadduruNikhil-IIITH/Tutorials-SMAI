{
 "cells": [
  {
   "cell_type": "markdown",
   "id": "de0dd42f",
   "metadata": {
    "papermill": {
     "duration": 0.007558,
     "end_time": "2024-01-18T11:06:03.746688",
     "exception": false,
     "start_time": "2024-01-18T11:06:03.739130",
     "status": "completed"
    },
    "tags": []
   },
   "source": [
    "## Installation\n",
    "\n",
    "```python\n",
    "!pip3 install numpy\n",
    "```"
   ]
  },
  {
   "cell_type": "code",
   "execution_count": 1,
   "id": "87378d93",
   "metadata": {
    "execution": {
     "iopub.execute_input": "2024-01-18T11:06:03.762382Z",
     "iopub.status.busy": "2024-01-18T11:06:03.761764Z",
     "iopub.status.idle": "2024-01-18T11:06:13.698390Z",
     "shell.execute_reply": "2024-01-18T11:06:13.697648Z"
    },
    "papermill": {
     "duration": 9.946789,
     "end_time": "2024-01-18T11:06:13.700399",
     "exception": false,
     "start_time": "2024-01-18T11:06:03.753610",
     "status": "completed"
    },
    "tags": []
   },
   "outputs": [
    {
     "name": "stdout",
     "output_type": "stream",
     "text": [
      "Collecting numpy\n",
      "  Downloading numpy-2.0.1-cp312-cp312-win_amd64.whl.metadata (60 kB)\n",
      "     ---------------------------------------- 0.0/60.9 kB ? eta -:--:--\n",
      "     ------ --------------------------------- 10.2/60.9 kB ? eta -:--:--\n",
      "     ------------------- ------------------ 30.7/60.9 kB 262.6 kB/s eta 0:00:01\n",
      "     ------------------------------- ------ 51.2/60.9 kB 375.8 kB/s eta 0:00:01\n",
      "     -------------------------------------- 60.9/60.9 kB 405.3 kB/s eta 0:00:00\n",
      "Downloading numpy-2.0.1-cp312-cp312-win_amd64.whl (16.3 MB)\n",
      "   ---------------------------------------- 0.0/16.3 MB ? eta -:--:--\n",
      "   ---------------------------------------- 0.1/16.3 MB 3.6 MB/s eta 0:00:05\n",
      "   - -------------------------------------- 0.7/16.3 MB 8.5 MB/s eta 0:00:02\n",
      "   -- ------------------------------------- 1.2/16.3 MB 9.7 MB/s eta 0:00:02\n",
      "   ---- ----------------------------------- 1.8/16.3 MB 10.1 MB/s eta 0:00:02\n",
      "   ----- ---------------------------------- 2.3/16.3 MB 10.4 MB/s eta 0:00:02\n",
      "   ------ --------------------------------- 2.6/16.3 MB 9.9 MB/s eta 0:00:02\n",
      "   ------- -------------------------------- 2.9/16.3 MB 9.7 MB/s eta 0:00:02\n",
      "   ------- -------------------------------- 3.1/16.3 MB 8.7 MB/s eta 0:00:02\n",
      "   -------- ------------------------------- 3.3/16.3 MB 8.7 MB/s eta 0:00:02\n",
      "   -------- ------------------------------- 3.5/16.3 MB 7.7 MB/s eta 0:00:02\n",
      "   -------- ------------------------------- 3.6/16.3 MB 7.6 MB/s eta 0:00:02\n",
      "   --------- ------------------------------ 3.7/16.3 MB 7.0 MB/s eta 0:00:02\n",
      "   --------- ------------------------------ 3.8/16.3 MB 6.4 MB/s eta 0:00:02\n",
      "   --------- ------------------------------ 3.9/16.3 MB 6.1 MB/s eta 0:00:03\n",
      "   --------- ------------------------------ 4.0/16.3 MB 6.0 MB/s eta 0:00:03\n",
      "   ---------- ----------------------------- 4.2/16.3 MB 5.7 MB/s eta 0:00:03\n",
      "   ---------- ----------------------------- 4.3/16.3 MB 5.5 MB/s eta 0:00:03\n",
      "   ---------- ----------------------------- 4.4/16.3 MB 5.4 MB/s eta 0:00:03\n",
      "   ----------- ---------------------------- 4.5/16.3 MB 5.2 MB/s eta 0:00:03\n",
      "   ----------- ---------------------------- 4.7/16.3 MB 5.1 MB/s eta 0:00:03\n",
      "   ----------- ---------------------------- 4.8/16.3 MB 4.9 MB/s eta 0:00:03\n",
      "   ------------ --------------------------- 4.9/16.3 MB 4.9 MB/s eta 0:00:03\n",
      "   ------------ --------------------------- 5.1/16.3 MB 4.8 MB/s eta 0:00:03\n",
      "   ------------ --------------------------- 5.2/16.3 MB 4.7 MB/s eta 0:00:03\n",
      "   ------------- -------------------------- 5.4/16.3 MB 4.7 MB/s eta 0:00:03\n",
      "   ------------- -------------------------- 5.5/16.3 MB 4.6 MB/s eta 0:00:03\n",
      "   ------------- -------------------------- 5.7/16.3 MB 4.6 MB/s eta 0:00:03\n",
      "   -------------- ------------------------- 5.8/16.3 MB 4.5 MB/s eta 0:00:03\n",
      "   -------------- ------------------------- 6.0/16.3 MB 4.5 MB/s eta 0:00:03\n",
      "   --------------- ------------------------ 6.2/16.3 MB 4.4 MB/s eta 0:00:03\n",
      "   --------------- ------------------------ 6.3/16.3 MB 4.4 MB/s eta 0:00:03\n",
      "   ---------------- ----------------------- 6.5/16.3 MB 4.4 MB/s eta 0:00:03\n",
      "   ---------------- ----------------------- 6.7/16.3 MB 4.4 MB/s eta 0:00:03\n",
      "   ---------------- ----------------------- 6.9/16.3 MB 4.4 MB/s eta 0:00:03\n",
      "   ----------------- ---------------------- 7.1/16.3 MB 4.3 MB/s eta 0:00:03\n",
      "   ----------------- ---------------------- 7.2/16.3 MB 4.3 MB/s eta 0:00:03\n",
      "   ------------------ --------------------- 7.4/16.3 MB 4.3 MB/s eta 0:00:03\n",
      "   ------------------ --------------------- 7.6/16.3 MB 4.3 MB/s eta 0:00:02\n",
      "   ------------------- -------------------- 7.8/16.3 MB 4.3 MB/s eta 0:00:02\n",
      "   ------------------- -------------------- 8.1/16.3 MB 4.3 MB/s eta 0:00:02\n",
      "   -------------------- ------------------- 8.3/16.3 MB 4.3 MB/s eta 0:00:02\n",
      "   -------------------- ------------------- 8.5/16.3 MB 4.3 MB/s eta 0:00:02\n",
      "   --------------------- ------------------ 8.8/16.3 MB 4.4 MB/s eta 0:00:02\n",
      "   ---------------------- ----------------- 9.0/16.3 MB 4.4 MB/s eta 0:00:02\n",
      "   ---------------------- ----------------- 9.2/16.3 MB 4.4 MB/s eta 0:00:02\n",
      "   ----------------------- ---------------- 9.5/16.3 MB 4.4 MB/s eta 0:00:02\n",
      "   ----------------------- ---------------- 9.7/16.3 MB 4.4 MB/s eta 0:00:02\n",
      "   ------------------------ --------------- 9.9/16.3 MB 4.4 MB/s eta 0:00:02\n",
      "   ------------------------ --------------- 10.2/16.3 MB 4.4 MB/s eta 0:00:02\n",
      "   ------------------------- -------------- 10.4/16.3 MB 4.4 MB/s eta 0:00:02\n",
      "   -------------------------- ------------- 10.6/16.3 MB 4.4 MB/s eta 0:00:02\n",
      "   -------------------------- ------------- 10.9/16.3 MB 4.3 MB/s eta 0:00:02\n",
      "   --------------------------- ------------ 11.1/16.3 MB 4.3 MB/s eta 0:00:02\n",
      "   ---------------------------- ----------- 11.4/16.3 MB 4.3 MB/s eta 0:00:02\n",
      "   ---------------------------- ----------- 11.7/16.3 MB 4.2 MB/s eta 0:00:02\n",
      "   ----------------------------- ---------- 11.9/16.3 MB 4.1 MB/s eta 0:00:02\n",
      "   ----------------------------- ---------- 12.2/16.3 MB 4.1 MB/s eta 0:00:01\n",
      "   ------------------------------ --------- 12.5/16.3 MB 4.1 MB/s eta 0:00:01\n",
      "   ------------------------------- -------- 12.8/16.3 MB 4.1 MB/s eta 0:00:01\n",
      "   -------------------------------- ------- 13.0/16.3 MB 4.1 MB/s eta 0:00:01\n",
      "   -------------------------------- ------- 13.3/16.3 MB 4.1 MB/s eta 0:00:01\n",
      "   --------------------------------- ------ 13.6/16.3 MB 4.1 MB/s eta 0:00:01\n",
      "   ---------------------------------- ----- 13.9/16.3 MB 4.2 MB/s eta 0:00:01\n",
      "   ---------------------------------- ----- 14.2/16.3 MB 4.3 MB/s eta 0:00:01\n",
      "   ----------------------------------- ---- 14.5/16.3 MB 4.5 MB/s eta 0:00:01\n",
      "   ------------------------------------ --- 14.7/16.3 MB 4.6 MB/s eta 0:00:01\n",
      "   ------------------------------------ --- 14.9/16.3 MB 4.7 MB/s eta 0:00:01\n",
      "   ------------------------------------- -- 15.2/16.3 MB 4.7 MB/s eta 0:00:01\n",
      "   ------------------------------------- -- 15.3/16.3 MB 4.7 MB/s eta 0:00:01\n",
      "   -------------------------------------- - 15.6/16.3 MB 4.8 MB/s eta 0:00:01\n",
      "   -------------------------------------- - 15.8/16.3 MB 4.8 MB/s eta 0:00:01\n",
      "   ---------------------------------------  16.0/16.3 MB 4.9 MB/s eta 0:00:01\n",
      "   ---------------------------------------  16.3/16.3 MB 5.0 MB/s eta 0:00:01\n",
      "   ---------------------------------------- 16.3/16.3 MB 4.8 MB/s eta 0:00:00\n",
      "Installing collected packages: numpy\n",
      "Successfully installed numpy-2.0.1\n"
     ]
    },
    {
     "name": "stderr",
     "output_type": "stream",
     "text": [
      "\n",
      "[notice] A new release of pip is available: 24.0 -> 24.2\n",
      "[notice] To update, run: python.exe -m pip install --upgrade pip\n"
     ]
    }
   ],
   "source": [
    "!pip3 install numpy"
   ]
  },
  {
   "cell_type": "code",
   "execution_count": 2,
   "id": "7e06b2b8",
   "metadata": {
    "execution": {
     "iopub.execute_input": "2024-01-18T11:06:13.730171Z",
     "iopub.status.busy": "2024-01-18T11:06:13.729809Z",
     "iopub.status.idle": "2024-01-18T11:06:13.733885Z",
     "shell.execute_reply": "2024-01-18T11:06:13.733093Z"
    },
    "papermill": {
     "duration": 0.013884,
     "end_time": "2024-01-18T11:06:13.735589",
     "exception": false,
     "start_time": "2024-01-18T11:06:13.721705",
     "status": "completed"
    },
    "tags": []
   },
   "outputs": [],
   "source": [
    "import numpy as np"
   ]
  },
  {
   "cell_type": "markdown",
   "id": "c78e8164",
   "metadata": {
    "papermill": {
     "duration": 0.006767,
     "end_time": "2024-01-18T11:06:13.749375",
     "exception": false,
     "start_time": "2024-01-18T11:06:13.742608",
     "status": "completed"
    },
    "tags": []
   },
   "source": [
    "# 1. Create"
   ]
  },
  {
   "cell_type": "code",
   "execution_count": 7,
   "id": "8535c5d4",
   "metadata": {
    "execution": {
     "iopub.execute_input": "2024-01-18T11:06:13.764594Z",
     "iopub.status.busy": "2024-01-18T11:06:13.764342Z",
     "iopub.status.idle": "2024-01-18T11:06:13.768547Z",
     "shell.execute_reply": "2024-01-18T11:06:13.767880Z"
    },
    "papermill": {
     "duration": 0.013491,
     "end_time": "2024-01-18T11:06:13.770080",
     "exception": false,
     "start_time": "2024-01-18T11:06:13.756589",
     "status": "completed"
    },
    "tags": []
   },
   "outputs": [],
   "source": [
    "data = np.random.rand(2,3,4)\n",
    "zeroes = np.zeros((2,2,2))\n",
    "full = np.full((2,2,2), 7)\n",
    "ones = np.ones((3,3,3))"
   ]
  },
  {
   "cell_type": "code",
   "execution_count": 8,
   "id": "0ee93af6",
   "metadata": {
    "execution": {
     "iopub.execute_input": "2024-01-18T11:06:13.784839Z",
     "iopub.status.busy": "2024-01-18T11:06:13.784565Z",
     "iopub.status.idle": "2024-01-18T11:06:13.792066Z",
     "shell.execute_reply": "2024-01-18T11:06:13.791401Z"
    },
    "papermill": {
     "duration": 0.016639,
     "end_time": "2024-01-18T11:06:13.793597",
     "exception": false,
     "start_time": "2024-01-18T11:06:13.776958",
     "status": "completed"
    },
    "tags": []
   },
   "outputs": [
    {
     "data": {
      "text/plain": [
       "array([[[0.34991853, 0.66550044, 0.2801731 , 0.59164739],\n",
       "        [0.18838693, 0.83829825, 0.5885628 , 0.87707008],\n",
       "        [0.20283374, 0.27127056, 0.61442986, 0.13118093]],\n",
       "\n",
       "       [[0.86224827, 0.31153162, 0.28548117, 0.33595466],\n",
       "        [0.73440516, 0.15279692, 0.41612262, 0.12863924],\n",
       "        [0.14652537, 0.14784419, 0.46449173, 0.21655896]]])"
      ]
     },
     "execution_count": 8,
     "metadata": {},
     "output_type": "execute_result"
    }
   ],
   "source": [
    "data"
   ]
  },
  {
   "cell_type": "code",
   "execution_count": 9,
   "id": "aaf849cb",
   "metadata": {
    "execution": {
     "iopub.execute_input": "2024-01-18T11:06:13.808890Z",
     "iopub.status.busy": "2024-01-18T11:06:13.808465Z",
     "iopub.status.idle": "2024-01-18T11:06:13.812560Z",
     "shell.execute_reply": "2024-01-18T11:06:13.812046Z"
    },
    "papermill": {
     "duration": 0.013204,
     "end_time": "2024-01-18T11:06:13.813905",
     "exception": false,
     "start_time": "2024-01-18T11:06:13.800701",
     "status": "completed"
    },
    "tags": []
   },
   "outputs": [
    {
     "data": {
      "text/plain": [
       "array([[[1., 1., 1.],\n",
       "        [1., 1., 1.],\n",
       "        [1., 1., 1.]],\n",
       "\n",
       "       [[1., 1., 1.],\n",
       "        [1., 1., 1.],\n",
       "        [1., 1., 1.]],\n",
       "\n",
       "       [[1., 1., 1.],\n",
       "        [1., 1., 1.],\n",
       "        [1., 1., 1.]]])"
      ]
     },
     "execution_count": 9,
     "metadata": {},
     "output_type": "execute_result"
    }
   ],
   "source": [
    "ones"
   ]
  },
  {
   "cell_type": "code",
   "execution_count": 10,
   "id": "7f954562",
   "metadata": {},
   "outputs": [
    {
     "data": {
      "text/plain": [
       "array([[[7, 7],\n",
       "        [7, 7]],\n",
       "\n",
       "       [[7, 7],\n",
       "        [7, 7]]])"
      ]
     },
     "execution_count": 10,
     "metadata": {},
     "output_type": "execute_result"
    }
   ],
   "source": [
    "full"
   ]
  },
  {
   "cell_type": "code",
   "execution_count": 11,
   "id": "dab3fb77",
   "metadata": {
    "execution": {
     "iopub.execute_input": "2024-01-18T11:06:13.830051Z",
     "iopub.status.busy": "2024-01-18T11:06:13.829762Z",
     "iopub.status.idle": "2024-01-18T11:06:13.833306Z",
     "shell.execute_reply": "2024-01-18T11:06:13.832557Z"
    },
    "papermill": {
     "duration": 0.013365,
     "end_time": "2024-01-18T11:06:13.834757",
     "exception": false,
     "start_time": "2024-01-18T11:06:13.821392",
     "status": "completed"
    },
    "tags": []
   },
   "outputs": [],
   "source": [
    "arr = np.array([[1,2,3,4],[1,2,3,4]])"
   ]
  },
  {
   "cell_type": "code",
   "execution_count": 12,
   "id": "4e0cdedf",
   "metadata": {
    "execution": {
     "iopub.execute_input": "2024-01-18T11:06:13.850139Z",
     "iopub.status.busy": "2024-01-18T11:06:13.849915Z",
     "iopub.status.idle": "2024-01-18T11:06:13.854395Z",
     "shell.execute_reply": "2024-01-18T11:06:13.853635Z"
    },
    "papermill": {
     "duration": 0.014032,
     "end_time": "2024-01-18T11:06:13.855875",
     "exception": false,
     "start_time": "2024-01-18T11:06:13.841843",
     "status": "completed"
    },
    "tags": []
   },
   "outputs": [
    {
     "data": {
      "text/plain": [
       "numpy.ndarray"
      ]
     },
     "execution_count": 12,
     "metadata": {},
     "output_type": "execute_result"
    }
   ],
   "source": [
    "type(arr)"
   ]
  },
  {
   "cell_type": "markdown",
   "id": "aa42e688",
   "metadata": {
    "papermill": {
     "duration": 0.007185,
     "end_time": "2024-01-18T11:06:13.884937",
     "exception": false,
     "start_time": "2024-01-18T11:06:13.877752",
     "status": "completed"
    },
    "tags": []
   },
   "source": [
    "# 2. Read"
   ]
  },
  {
   "cell_type": "code",
   "execution_count": 13,
   "id": "5244505b",
   "metadata": {
    "execution": {
     "iopub.execute_input": "2024-01-18T11:06:13.900793Z",
     "iopub.status.busy": "2024-01-18T11:06:13.900329Z",
     "iopub.status.idle": "2024-01-18T11:06:13.903846Z",
     "shell.execute_reply": "2024-01-18T11:06:13.903181Z"
    },
    "papermill": {
     "duration": 0.013324,
     "end_time": "2024-01-18T11:06:13.905435",
     "exception": false,
     "start_time": "2024-01-18T11:06:13.892111",
     "status": "completed"
    },
    "tags": []
   },
   "outputs": [],
   "source": [
    "# Attributes\n",
    "shape = data.shape\n",
    "size = data.size\n",
    "types = data.dtype"
   ]
  },
  {
   "cell_type": "code",
   "execution_count": 14,
   "id": "cf275093",
   "metadata": {
    "execution": {
     "iopub.execute_input": "2024-01-18T11:06:13.920973Z",
     "iopub.status.busy": "2024-01-18T11:06:13.920671Z",
     "iopub.status.idle": "2024-01-18T11:06:13.925401Z",
     "shell.execute_reply": "2024-01-18T11:06:13.924660Z"
    },
    "papermill": {
     "duration": 0.014334,
     "end_time": "2024-01-18T11:06:13.926940",
     "exception": false,
     "start_time": "2024-01-18T11:06:13.912606",
     "status": "completed"
    },
    "tags": []
   },
   "outputs": [
    {
     "data": {
      "text/plain": [
       "dtype('float64')"
      ]
     },
     "execution_count": 14,
     "metadata": {},
     "output_type": "execute_result"
    }
   ],
   "source": [
    "types"
   ]
  },
  {
   "cell_type": "code",
   "execution_count": 15,
   "id": "1ad7b26c",
   "metadata": {
    "execution": {
     "iopub.execute_input": "2024-01-18T11:06:13.943062Z",
     "iopub.status.busy": "2024-01-18T11:06:13.942781Z",
     "iopub.status.idle": "2024-01-18T11:06:13.946541Z",
     "shell.execute_reply": "2024-01-18T11:06:13.945786Z"
    },
    "papermill": {
     "duration": 0.013887,
     "end_time": "2024-01-18T11:06:13.948151",
     "exception": false,
     "start_time": "2024-01-18T11:06:13.934264",
     "status": "completed"
    },
    "tags": []
   },
   "outputs": [],
   "source": [
    "# Slicing\n",
    "arr = data[0]\n",
    "slicer = data[0][0:2]\n",
    "reverse = data[-1]\n",
    "singleval = data[0][0][0]"
   ]
  },
  {
   "cell_type": "code",
   "execution_count": 16,
   "id": "c16fd78d",
   "metadata": {
    "execution": {
     "iopub.execute_input": "2024-01-18T11:06:13.964219Z",
     "iopub.status.busy": "2024-01-18T11:06:13.963976Z",
     "iopub.status.idle": "2024-01-18T11:06:13.969412Z",
     "shell.execute_reply": "2024-01-18T11:06:13.968564Z"
    },
    "papermill": {
     "duration": 0.015532,
     "end_time": "2024-01-18T11:06:13.971035",
     "exception": false,
     "start_time": "2024-01-18T11:06:13.955503",
     "status": "completed"
    },
    "tags": []
   },
   "outputs": [
    {
     "data": {
      "text/plain": [
       "np.float64(0.34991853261998895)"
      ]
     },
     "execution_count": 16,
     "metadata": {},
     "output_type": "execute_result"
    }
   ],
   "source": [
    "singleval"
   ]
  },
  {
   "cell_type": "code",
   "execution_count": 17,
   "id": "7190f602",
   "metadata": {
    "execution": {
     "iopub.execute_input": "2024-01-18T11:06:13.987587Z",
     "iopub.status.busy": "2024-01-18T11:06:13.987154Z",
     "iopub.status.idle": "2024-01-18T11:06:13.991499Z",
     "shell.execute_reply": "2024-01-18T11:06:13.990978Z"
    },
    "papermill": {
     "duration": 0.014125,
     "end_time": "2024-01-18T11:06:13.992893",
     "exception": false,
     "start_time": "2024-01-18T11:06:13.978768",
     "status": "completed"
    },
    "tags": []
   },
   "outputs": [
    {
     "data": {
      "text/plain": [
       "array([[[0.34991853, 0.66550044, 0.2801731 , 0.59164739],\n",
       "        [0.18838693, 0.83829825, 0.5885628 , 0.87707008],\n",
       "        [0.20283374, 0.27127056, 0.61442986, 0.13118093]],\n",
       "\n",
       "       [[0.86224827, 0.31153162, 0.28548117, 0.33595466],\n",
       "        [0.73440516, 0.15279692, 0.41612262, 0.12863924],\n",
       "        [0.14652537, 0.14784419, 0.46449173, 0.21655896]]])"
      ]
     },
     "execution_count": 17,
     "metadata": {},
     "output_type": "execute_result"
    }
   ],
   "source": [
    "data"
   ]
  },
  {
   "cell_type": "markdown",
   "id": "3f687b76",
   "metadata": {
    "papermill": {
     "duration": 0.0073,
     "end_time": "2024-01-18T11:06:14.008005",
     "exception": false,
     "start_time": "2024-01-18T11:06:14.000705",
     "status": "completed"
    },
    "tags": []
   },
   "source": [
    "# 3. Update"
   ]
  },
  {
   "cell_type": "code",
   "execution_count": 18,
   "id": "77d96df1",
   "metadata": {
    "execution": {
     "iopub.execute_input": "2024-01-18T11:06:14.024560Z",
     "iopub.status.busy": "2024-01-18T11:06:14.024037Z",
     "iopub.status.idle": "2024-01-18T11:06:14.027454Z",
     "shell.execute_reply": "2024-01-18T11:06:14.026912Z"
    },
    "papermill": {
     "duration": 0.013509,
     "end_time": "2024-01-18T11:06:14.028876",
     "exception": false,
     "start_time": "2024-01-18T11:06:14.015367",
     "status": "completed"
    },
    "tags": []
   },
   "outputs": [],
   "source": [
    "list1 = np.random.rand(10) \n",
    "list2 = np.random.rand(10) "
   ]
  },
  {
   "cell_type": "code",
   "execution_count": 19,
   "id": "2d0e450c",
   "metadata": {
    "execution": {
     "iopub.execute_input": "2024-01-18T11:06:14.045430Z",
     "iopub.status.busy": "2024-01-18T11:06:14.044966Z",
     "iopub.status.idle": "2024-01-18T11:06:14.049771Z",
     "shell.execute_reply": "2024-01-18T11:06:14.049043Z"
    },
    "papermill": {
     "duration": 0.015062,
     "end_time": "2024-01-18T11:06:14.051378",
     "exception": false,
     "start_time": "2024-01-18T11:06:14.036316",
     "status": "completed"
    },
    "tags": []
   },
   "outputs": [
    {
     "data": {
      "text/plain": [
       "array([0.31074646, 0.99764208, 0.18804286, 0.47545809, 0.05974404,\n",
       "       0.86312743, 0.63072534, 0.43623609, 0.27685815, 0.69012082])"
      ]
     },
     "execution_count": 19,
     "metadata": {},
     "output_type": "execute_result"
    }
   ],
   "source": [
    "list2"
   ]
  },
  {
   "cell_type": "code",
   "execution_count": 20,
   "id": "ce3891e9",
   "metadata": {
    "execution": {
     "iopub.execute_input": "2024-01-18T11:06:14.068216Z",
     "iopub.status.busy": "2024-01-18T11:06:14.067961Z",
     "iopub.status.idle": "2024-01-18T11:06:14.072085Z",
     "shell.execute_reply": "2024-01-18T11:06:14.071316Z"
    },
    "papermill": {
     "duration": 0.014563,
     "end_time": "2024-01-18T11:06:14.073500",
     "exception": false,
     "start_time": "2024-01-18T11:06:14.058937",
     "status": "completed"
    },
    "tags": []
   },
   "outputs": [],
   "source": [
    "# Basic Math\n",
    "add = np.add(list1, list2)\n",
    "sub = np.subtract(list1, list2)\n",
    "div = np.divide(list1, list2)\n",
    "mult = np.multiply(list1, list2)\n",
    "# these four are element wise\n",
    "\n",
    "dot = np.dot(list1, list2)"
   ]
  },
  {
   "cell_type": "code",
   "execution_count": 21,
   "id": "5a56a545",
   "metadata": {
    "execution": {
     "iopub.execute_input": "2024-01-18T11:06:14.124451Z",
     "iopub.status.busy": "2024-01-18T11:06:14.124166Z",
     "iopub.status.idle": "2024-01-18T11:06:14.128967Z",
     "shell.execute_reply": "2024-01-18T11:06:14.128209Z"
    },
    "papermill": {
     "duration": 0.04947,
     "end_time": "2024-01-18T11:06:14.130459",
     "exception": false,
     "start_time": "2024-01-18T11:06:14.080989",
     "status": "completed"
    },
    "tags": []
   },
   "outputs": [
    {
     "data": {
      "text/plain": [
       "np.float64(2.4360199710684816)"
      ]
     },
     "execution_count": 21,
     "metadata": {},
     "output_type": "execute_result"
    }
   ],
   "source": [
    "dot"
   ]
  },
  {
   "cell_type": "code",
   "execution_count": 28,
   "id": "2ef54ea4",
   "metadata": {
    "execution": {
     "iopub.execute_input": "2024-01-18T11:06:14.147657Z",
     "iopub.status.busy": "2024-01-18T11:06:14.147420Z",
     "iopub.status.idle": "2024-01-18T11:06:14.152918Z",
     "shell.execute_reply": "2024-01-18T11:06:14.152133Z"
    },
    "papermill": {
     "duration": 0.0157,
     "end_time": "2024-01-18T11:06:14.154469",
     "exception": false,
     "start_time": "2024-01-18T11:06:14.138769",
     "status": "completed"
    },
    "tags": []
   },
   "outputs": [],
   "source": [
    "# Stat Functions\n",
    "sqrt = np.sqrt(49)\n",
    "ab = np.abs(-2)\n",
    "power = np.power(2,7)\n",
    "log = np.log(25)\n",
    "exp = np.exp([2,3])\n",
    "mins = np.min(list1)\n",
    "maxs = np.max(list1)"
   ]
  },
  {
   "cell_type": "code",
   "execution_count": 29,
   "id": "43dab9be",
   "metadata": {},
   "outputs": [
    {
     "data": {
      "text/plain": [
       "np.float64(7.0)"
      ]
     },
     "execution_count": 29,
     "metadata": {},
     "output_type": "execute_result"
    }
   ],
   "source": [
    "sqrt"
   ]
  },
  {
   "cell_type": "code",
   "execution_count": 23,
   "id": "e52251fb",
   "metadata": {
    "execution": {
     "iopub.execute_input": "2024-01-18T11:06:14.171030Z",
     "iopub.status.busy": "2024-01-18T11:06:14.170774Z",
     "iopub.status.idle": "2024-01-18T11:06:14.175594Z",
     "shell.execute_reply": "2024-01-18T11:06:14.174874Z"
    },
    "papermill": {
     "duration": 0.014932,
     "end_time": "2024-01-18T11:06:14.177210",
     "exception": false,
     "start_time": "2024-01-18T11:06:14.162278",
     "status": "completed"
    },
    "tags": []
   },
   "outputs": [
    {
     "data": {
      "text/plain": [
       "np.float64(0.9622444528669721)"
      ]
     },
     "execution_count": 23,
     "metadata": {},
     "output_type": "execute_result"
    }
   ],
   "source": [
    "maxs"
   ]
  },
  {
   "cell_type": "code",
   "execution_count": 24,
   "id": "83ed279c",
   "metadata": {
    "execution": {
     "iopub.execute_input": "2024-01-18T11:06:14.194333Z",
     "iopub.status.busy": "2024-01-18T11:06:14.194096Z",
     "iopub.status.idle": "2024-01-18T11:06:14.198399Z",
     "shell.execute_reply": "2024-01-18T11:06:14.197897Z"
    },
    "papermill": {
     "duration": 0.014614,
     "end_time": "2024-01-18T11:06:14.199920",
     "exception": false,
     "start_time": "2024-01-18T11:06:14.185306",
     "status": "completed"
    },
    "tags": []
   },
   "outputs": [
    {
     "data": {
      "text/plain": [
       "array([[[0.34991853, 0.66550044, 0.2801731 , 0.59164739],\n",
       "        [0.18838693, 0.83829825, 0.5885628 , 0.87707008],\n",
       "        [0.20283374, 0.27127056, 0.61442986, 0.13118093]],\n",
       "\n",
       "       [[0.86224827, 0.31153162, 0.28548117, 0.33595466],\n",
       "        [0.73440516, 0.15279692, 0.41612262, 0.12863924],\n",
       "        [0.14652537, 0.14784419, 0.46449173, 0.21655896]]])"
      ]
     },
     "execution_count": 24,
     "metadata": {},
     "output_type": "execute_result"
    }
   ],
   "source": [
    "data"
   ]
  },
  {
   "cell_type": "code",
   "execution_count": 25,
   "id": "e60bad09",
   "metadata": {
    "execution": {
     "iopub.execute_input": "2024-01-18T11:06:14.217035Z",
     "iopub.status.busy": "2024-01-18T11:06:14.216762Z",
     "iopub.status.idle": "2024-01-18T11:06:14.220499Z",
     "shell.execute_reply": "2024-01-18T11:06:14.219819Z"
    },
    "papermill": {
     "duration": 0.01408,
     "end_time": "2024-01-18T11:06:14.222123",
     "exception": false,
     "start_time": "2024-01-18T11:06:14.208043",
     "status": "completed"
    },
    "tags": []
   },
   "outputs": [],
   "source": [
    "data[0][0][0] = 700"
   ]
  },
  {
   "cell_type": "code",
   "execution_count": 21,
   "id": "69978a39",
   "metadata": {
    "execution": {
     "iopub.execute_input": "2024-01-18T11:06:14.239394Z",
     "iopub.status.busy": "2024-01-18T11:06:14.239165Z",
     "iopub.status.idle": "2024-01-18T11:06:14.244366Z",
     "shell.execute_reply": "2024-01-18T11:06:14.243657Z"
    },
    "papermill": {
     "duration": 0.015514,
     "end_time": "2024-01-18T11:06:14.245802",
     "exception": false,
     "start_time": "2024-01-18T11:06:14.230288",
     "status": "completed"
    },
    "tags": []
   },
   "outputs": [
    {
     "data": {
      "text/plain": [
       "array([[[7.00000000e+02, 3.69082338e-01, 9.00527525e-01, 1.07024332e-01],\n",
       "        [5.59167732e-01, 2.90804549e-01, 1.80171286e-02, 7.97232649e-01],\n",
       "        [3.19069766e-01, 9.40366141e-02, 9.49223261e-01, 1.14804725e-01]],\n",
       "\n",
       "       [[4.13763474e-01, 3.14099983e-01, 2.72447436e-01, 7.68408114e-01],\n",
       "        [2.93284177e-01, 9.37086775e-01, 6.24786554e-01, 3.84317906e-01],\n",
       "        [2.00317361e-02, 3.66648784e-01, 8.45020869e-01, 1.95664272e-01]]])"
      ]
     },
     "execution_count": 21,
     "metadata": {},
     "output_type": "execute_result"
    }
   ],
   "source": [
    "data"
   ]
  },
  {
   "cell_type": "code",
   "execution_count": 22,
   "id": "c841e443",
   "metadata": {
    "execution": {
     "iopub.execute_input": "2024-01-18T11:06:14.262913Z",
     "iopub.status.busy": "2024-01-18T11:06:14.262533Z",
     "iopub.status.idle": "2024-01-18T11:06:14.268334Z",
     "shell.execute_reply": "2024-01-18T11:06:14.267581Z"
    },
    "papermill": {
     "duration": 0.015862,
     "end_time": "2024-01-18T11:06:14.269787",
     "exception": false,
     "start_time": "2024-01-18T11:06:14.253925",
     "status": "completed"
    },
    "tags": []
   },
   "outputs": [
    {
     "data": {
      "text/plain": [
       "array([[[1.07024332e-01, 3.69082338e-01, 9.00527525e-01, 7.00000000e+02],\n",
       "        [1.80171286e-02, 2.90804549e-01, 5.59167732e-01, 7.97232649e-01],\n",
       "        [9.40366141e-02, 1.14804725e-01, 3.19069766e-01, 9.49223261e-01]],\n",
       "\n",
       "       [[2.72447436e-01, 3.14099983e-01, 4.13763474e-01, 7.68408114e-01],\n",
       "        [2.93284177e-01, 3.84317906e-01, 6.24786554e-01, 9.37086775e-01],\n",
       "        [2.00317361e-02, 1.95664272e-01, 3.66648784e-01, 8.45020869e-01]]])"
      ]
     },
     "execution_count": 22,
     "metadata": {},
     "output_type": "execute_result"
    }
   ],
   "source": [
    "data.sort()\n",
    "data"
   ]
  },
  {
   "cell_type": "code",
   "execution_count": 23,
   "id": "26390a21",
   "metadata": {
    "execution": {
     "iopub.execute_input": "2024-01-18T11:06:14.287225Z",
     "iopub.status.busy": "2024-01-18T11:06:14.286981Z",
     "iopub.status.idle": "2024-01-18T11:06:14.290588Z",
     "shell.execute_reply": "2024-01-18T11:06:14.290038Z"
    },
    "papermill": {
     "duration": 0.014091,
     "end_time": "2024-01-18T11:06:14.292199",
     "exception": false,
     "start_time": "2024-01-18T11:06:14.278108",
     "status": "completed"
    },
    "tags": []
   },
   "outputs": [
    {
     "name": "stdout",
     "output_type": "stream",
     "text": [
      "(2, 3, 4)\n"
     ]
    }
   ],
   "source": [
    "print(data.shape)"
   ]
  },
  {
   "cell_type": "code",
   "execution_count": 24,
   "id": "e6d57a01",
   "metadata": {
    "execution": {
     "iopub.execute_input": "2024-01-18T11:06:14.309885Z",
     "iopub.status.busy": "2024-01-18T11:06:14.309622Z",
     "iopub.status.idle": "2024-01-18T11:06:14.314675Z",
     "shell.execute_reply": "2024-01-18T11:06:14.313961Z"
    },
    "papermill": {
     "duration": 0.015752,
     "end_time": "2024-01-18T11:06:14.316238",
     "exception": false,
     "start_time": "2024-01-18T11:06:14.300486",
     "status": "completed"
    },
    "tags": []
   },
   "outputs": [
    {
     "data": {
      "text/plain": [
       "(2, 2, 6)"
      ]
     },
     "execution_count": 24,
     "metadata": {},
     "output_type": "execute_result"
    }
   ],
   "source": [
    "data = data.reshape((2,2,-1))\n",
    "data.shape"
   ]
  },
  {
   "cell_type": "code",
   "execution_count": 25,
   "id": "525c0273",
   "metadata": {
    "execution": {
     "iopub.execute_input": "2024-01-18T11:06:14.334200Z",
     "iopub.status.busy": "2024-01-18T11:06:14.333945Z",
     "iopub.status.idle": "2024-01-18T11:06:14.338886Z",
     "shell.execute_reply": "2024-01-18T11:06:14.338060Z"
    },
    "papermill": {
     "duration": 0.015791,
     "end_time": "2024-01-18T11:06:14.340525",
     "exception": false,
     "start_time": "2024-01-18T11:06:14.324734",
     "status": "completed"
    },
    "tags": []
   },
   "outputs": [
    {
     "name": "stdout",
     "output_type": "stream",
     "text": [
      "[0. 0. 0. 0. 0. 0. 0. 0.]\n",
      "[0. 0. 0. 0. 0. 0. 0. 0. 3. 4.]\n"
     ]
    }
   ],
   "source": [
    "zeroes = np.zeros((8))\n",
    "print(zeroes)\n",
    "zeroes = np.append(zeroes, [3,4])\n",
    "print(zeroes)"
   ]
  },
  {
   "cell_type": "code",
   "execution_count": 26,
   "id": "fc148188",
   "metadata": {
    "execution": {
     "iopub.execute_input": "2024-01-18T11:06:14.358330Z",
     "iopub.status.busy": "2024-01-18T11:06:14.358119Z",
     "iopub.status.idle": "2024-01-18T11:06:14.362326Z",
     "shell.execute_reply": "2024-01-18T11:06:14.361481Z"
    },
    "papermill": {
     "duration": 0.014951,
     "end_time": "2024-01-18T11:06:14.363936",
     "exception": false,
     "start_time": "2024-01-18T11:06:14.348985",
     "status": "completed"
    },
    "tags": []
   },
   "outputs": [
    {
     "name": "stdout",
     "output_type": "stream",
     "text": [
      "[0. 0. 1. 0. 0. 0. 0. 0. 0. 3. 4.]\n"
     ]
    }
   ],
   "source": [
    "zeroes = np.insert(zeroes, 2, 1)\n",
    "print(zeroes)"
   ]
  },
  {
   "cell_type": "markdown",
   "id": "f2b41139",
   "metadata": {
    "papermill": {
     "duration": 0.008231,
     "end_time": "2024-01-18T11:06:14.380684",
     "exception": false,
     "start_time": "2024-01-18T11:06:14.372453",
     "status": "completed"
    },
    "tags": []
   },
   "source": [
    "# 4. Delete"
   ]
  },
  {
   "cell_type": "code",
   "execution_count": 27,
   "id": "8c50e849",
   "metadata": {
    "execution": {
     "iopub.execute_input": "2024-01-18T11:06:14.398717Z",
     "iopub.status.busy": "2024-01-18T11:06:14.398444Z",
     "iopub.status.idle": "2024-01-18T11:06:14.403824Z",
     "shell.execute_reply": "2024-01-18T11:06:14.403140Z"
    },
    "papermill": {
     "duration": 0.015982,
     "end_time": "2024-01-18T11:06:14.405233",
     "exception": false,
     "start_time": "2024-01-18T11:06:14.389251",
     "status": "completed"
    },
    "tags": []
   },
   "outputs": [
    {
     "data": {
      "text/plain": [
       "array([[[1.07024332e-01, 3.69082338e-01, 9.00527525e-01, 7.00000000e+02,\n",
       "         1.80171286e-02, 2.90804549e-01],\n",
       "        [5.59167732e-01, 7.97232649e-01, 9.40366141e-02, 1.14804725e-01,\n",
       "         3.19069766e-01, 9.49223261e-01]],\n",
       "\n",
       "       [[2.72447436e-01, 3.14099983e-01, 4.13763474e-01, 7.68408114e-01,\n",
       "         2.93284177e-01, 3.84317906e-01],\n",
       "        [6.24786554e-01, 9.37086775e-01, 2.00317361e-02, 1.95664272e-01,\n",
       "         3.66648784e-01, 8.45020869e-01]]])"
      ]
     },
     "execution_count": 27,
     "metadata": {},
     "output_type": "execute_result"
    }
   ],
   "source": [
    "data"
   ]
  },
  {
   "cell_type": "code",
   "execution_count": 28,
   "id": "9f6811a1",
   "metadata": {
    "execution": {
     "iopub.execute_input": "2024-01-18T11:06:14.423442Z",
     "iopub.status.busy": "2024-01-18T11:06:14.423100Z",
     "iopub.status.idle": "2024-01-18T11:06:14.427775Z",
     "shell.execute_reply": "2024-01-18T11:06:14.427030Z"
    },
    "papermill": {
     "duration": 0.015451,
     "end_time": "2024-01-18T11:06:14.429173",
     "exception": false,
     "start_time": "2024-01-18T11:06:14.413722",
     "status": "completed"
    },
    "tags": []
   },
   "outputs": [
    {
     "data": {
      "text/plain": [
       "array([[[0.55916773, 0.79723265, 0.09403661, 0.11480473, 0.31906977,\n",
       "         0.94922326]],\n",
       "\n",
       "       [[0.62478655, 0.93708677, 0.02003174, 0.19566427, 0.36664878,\n",
       "         0.84502087]]])"
      ]
     },
     "execution_count": 28,
     "metadata": {},
     "output_type": "execute_result"
    }
   ],
   "source": [
    "np.delete(data, 0, axis=1)"
   ]
  },
  {
   "cell_type": "code",
   "execution_count": 29,
   "id": "ffcc5c5e",
   "metadata": {
    "execution": {
     "iopub.execute_input": "2024-01-18T11:06:14.447384Z",
     "iopub.status.busy": "2024-01-18T11:06:14.447185Z",
     "iopub.status.idle": "2024-01-18T11:06:14.450231Z",
     "shell.execute_reply": "2024-01-18T11:06:14.449703Z"
    },
    "papermill": {
     "duration": 0.013727,
     "end_time": "2024-01-18T11:06:14.451554",
     "exception": false,
     "start_time": "2024-01-18T11:06:14.437827",
     "status": "completed"
    },
    "tags": []
   },
   "outputs": [],
   "source": [
    "np.save(\"new array\", data)"
   ]
  },
  {
   "cell_type": "code",
   "execution_count": 30,
   "id": "0378d52e",
   "metadata": {
    "execution": {
     "iopub.execute_input": "2024-01-18T11:06:14.470116Z",
     "iopub.status.busy": "2024-01-18T11:06:14.469635Z",
     "iopub.status.idle": "2024-01-18T11:06:14.473237Z",
     "shell.execute_reply": "2024-01-18T11:06:14.472497Z"
    },
    "papermill": {
     "duration": 0.014556,
     "end_time": "2024-01-18T11:06:14.474782",
     "exception": false,
     "start_time": "2024-01-18T11:06:14.460226",
     "status": "completed"
    },
    "tags": []
   },
   "outputs": [],
   "source": [
    "test = np.load(\"new array.npy\")"
   ]
  },
  {
   "cell_type": "code",
   "execution_count": 31,
   "id": "c96abc4b",
   "metadata": {
    "execution": {
     "iopub.execute_input": "2024-01-18T11:06:14.493205Z",
     "iopub.status.busy": "2024-01-18T11:06:14.492975Z",
     "iopub.status.idle": "2024-01-18T11:06:14.497889Z",
     "shell.execute_reply": "2024-01-18T11:06:14.497157Z"
    },
    "papermill": {
     "duration": 0.015917,
     "end_time": "2024-01-18T11:06:14.499310",
     "exception": false,
     "start_time": "2024-01-18T11:06:14.483393",
     "status": "completed"
    },
    "tags": []
   },
   "outputs": [
    {
     "data": {
      "text/plain": [
       "array([[[1.07024332e-01, 3.69082338e-01, 9.00527525e-01, 7.00000000e+02,\n",
       "         1.80171286e-02, 2.90804549e-01],\n",
       "        [5.59167732e-01, 7.97232649e-01, 9.40366141e-02, 1.14804725e-01,\n",
       "         3.19069766e-01, 9.49223261e-01]],\n",
       "\n",
       "       [[2.72447436e-01, 3.14099983e-01, 4.13763474e-01, 7.68408114e-01,\n",
       "         2.93284177e-01, 3.84317906e-01],\n",
       "        [6.24786554e-01, 9.37086775e-01, 2.00317361e-02, 1.95664272e-01,\n",
       "         3.66648784e-01, 8.45020869e-01]]])"
      ]
     },
     "execution_count": 31,
     "metadata": {},
     "output_type": "execute_result"
    }
   ],
   "source": [
    "test"
   ]
  }
 ],
 "metadata": {
  "kaggle": {
   "accelerator": "none",
   "dataSources": [],
   "dockerImageVersionId": 30635,
   "isGpuEnabled": false,
   "isInternetEnabled": true,
   "language": "python",
   "sourceType": "notebook"
  },
  "kernelspec": {
   "display_name": "Python 3",
   "language": "python",
   "name": "python3"
  },
  "language_info": {
   "codemirror_mode": {
    "name": "ipython",
    "version": 3
   },
   "file_extension": ".py",
   "mimetype": "text/x-python",
   "name": "python",
   "nbconvert_exporter": "python",
   "pygments_lexer": "ipython3",
   "version": "3.12.4"
  },
  "papermill": {
   "default_parameters": {},
   "duration": 13.33007,
   "end_time": "2024-01-18T11:06:14.777747",
   "environment_variables": {},
   "exception": null,
   "input_path": "__notebook__.ipynb",
   "output_path": "__notebook__.ipynb",
   "parameters": {},
   "start_time": "2024-01-18T11:06:01.447677",
   "version": "2.4.0"
  }
 },
 "nbformat": 4,
 "nbformat_minor": 5
}
